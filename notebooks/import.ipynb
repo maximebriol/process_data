{
 "cells": [
  {
   "cell_type": "code",
   "execution_count": 1,
   "id": "a4582e7e",
   "metadata": {},
   "outputs": [],
   "source": [
    "import sys\n",
    "sys.path.insert(0, \"..\")"
   ]
  },
  {
   "cell_type": "code",
   "execution_count": 4,
   "id": "78f47046",
   "metadata": {},
   "outputs": [],
   "source": [
    "import processing_data\n",
    "import pretty_printer"
   ]
  },
  {
   "cell_type": "code",
   "execution_count": null,
   "id": "10e920ca",
   "metadata": {},
   "outputs": [],
   "source": []
  }
 ],
 "metadata": {
  "kernelspec": {
   "display_name": "Python 3",
   "language": "python",
   "name": "python3"
  },
  "language_info": {
   "codemirror_mode": {
    "name": "ipython",
    "version": 3
   },
   "file_extension": ".py",
   "mimetype": "text/x-python",
   "name": "python",
   "nbconvert_exporter": "python",
   "pygments_lexer": "ipython3",
   "version": "3.8.8"
  }
 },
 "nbformat": 4,
 "nbformat_minor": 5
}
